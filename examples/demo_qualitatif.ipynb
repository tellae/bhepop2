{
 "cells": [
  {
   "cell_type": "markdown",
   "metadata": {},
   "source": [
    "# Adding a qualitative feature to a synthetic population of households\n",
    "\n",
    "Ce notebook part d'une génération de population synthétique de ménages générée sur la ville de Nantes. \n",
    "Cette population synthétique a un attribut qui est le nombre de voitures possédé par le ménage. Nous appellerons cette population, population initiale. \n",
    "\n",
    "Nous calulons les  marginaux pour chaque modalité de la population synthétique sous la forme d'un pourcentage pour cette modalité d'avoir une des modalités de l'attribut nombre de voiture. Par exemple, nous calculons le pourcentage pour un homme d'avoir une voiture. Ce tableau des marginaux peut être intérpêtés comme une distribution de probabiltés, c'est pourquoi, nous l'appellerons distributions marginales.\n",
    "\n",
    "Nous appliquons l'algorithme bhepop2 qualitatif avec deux entrées\n",
    "\n",
    "* La population synthétique sans l'attribut nombre de voiture possédé par le ménage. Nous l'appellerons population tronquée.\n",
    "* les distributions marginales de cet attribut\n",
    "\n",
    "L'algorithme Bhepop2 va donc inférer la population synthétique tronquée avec l'attribut nombre de véhicules. Nous appellerons la sortie de Bhepop2, la population reconstitutée.\n"
   ]
  },
  {
   "cell_type": "code",
   "execution_count": 7,
   "metadata": {},
   "outputs": [],
   "source": [
    "import warnings\n",
    "import pandas as pd\n",
    "import pyarrow.feather as feather\n",
    "from  bhepop2.max_entropy_enrich_qualitative import MaxEntropyEnrichment_qualitative\n",
    "from bhepop2.tools import read_filosofi, compute_distribution, plot_analysis\n",
    "\n",
    "warnings.filterwarnings(\"ignore\", category=RuntimeWarning)\n",
    "pd.set_option(\"mode.chained_assignment\", None)\n"
   ]
  },
  {
   "cell_type": "markdown",
   "metadata": {},
   "source": [
    "## Data preparation\n",
    "\n",
    "Read synthetic population \n",
    "\n",
    "Pour passer de R à python (je retraduis le script R Epop2_R)\n",
    "https://towardsdatascience.com/essential-guide-to-translating-between-python-and-r-7cb18b786e5d"
   ]
  },
  {
   "cell_type": "markdown",
   "metadata": {},
   "source": [
    "Read Filosofi data and format dataframe."
   ]
  },
  {
   "cell_type": "code",
   "execution_count": 8,
   "metadata": {},
   "outputs": [
    {
     "data": {
      "text/html": [
       "<div>\n",
       "<style scoped>\n",
       "    .dataframe tbody tr th:only-of-type {\n",
       "        vertical-align: middle;\n",
       "    }\n",
       "\n",
       "    .dataframe tbody tr th {\n",
       "        vertical-align: top;\n",
       "    }\n",
       "\n",
       "    .dataframe thead th {\n",
       "        text-align: right;\n",
       "    }\n",
       "</style>\n",
       "<table border=\"1\" class=\"dataframe\">\n",
       "  <thead>\n",
       "    <tr style=\"text-align: right;\">\n",
       "      <th></th>\n",
       "      <th>SFM_agg</th>\n",
       "      <th>AGEREVQb_rec</th>\n",
       "      <th>sexe_rec</th>\n",
       "      <th>prof</th>\n",
       "      <th>Voit_rec</th>\n",
       "    </tr>\n",
       "  </thead>\n",
       "  <tbody>\n",
       "    <tr>\n",
       "      <th>0</th>\n",
       "      <td>CSE</td>\n",
       "      <td>cat4</td>\n",
       "      <td>Homme</td>\n",
       "      <td>Retraite</td>\n",
       "      <td>2voit</td>\n",
       "    </tr>\n",
       "    <tr>\n",
       "      <th>1</th>\n",
       "      <td>CSE</td>\n",
       "      <td>cat4</td>\n",
       "      <td>Homme</td>\n",
       "      <td>Retraite</td>\n",
       "      <td>2voit</td>\n",
       "    </tr>\n",
       "    <tr>\n",
       "      <th>2</th>\n",
       "      <td>CSE</td>\n",
       "      <td>cat4</td>\n",
       "      <td>Homme</td>\n",
       "      <td>Retraite</td>\n",
       "      <td>2voit</td>\n",
       "    </tr>\n",
       "    <tr>\n",
       "      <th>3</th>\n",
       "      <td>CSE</td>\n",
       "      <td>cat4</td>\n",
       "      <td>Homme</td>\n",
       "      <td>Retraite</td>\n",
       "      <td>2voit</td>\n",
       "    </tr>\n",
       "    <tr>\n",
       "      <th>4</th>\n",
       "      <td>CSE</td>\n",
       "      <td>cat4</td>\n",
       "      <td>Homme</td>\n",
       "      <td>Retraite</td>\n",
       "      <td>2voit</td>\n",
       "    </tr>\n",
       "  </tbody>\n",
       "</table>\n",
       "</div>"
      ],
      "text/plain": [
       "  SFM_agg AGEREVQb_rec sexe_rec      prof Voit_rec\n",
       "0     CSE         cat4    Homme  Retraite    2voit\n",
       "1     CSE         cat4    Homme  Retraite    2voit\n",
       "2     CSE         cat4    Homme  Retraite    2voit\n",
       "3     CSE         cat4    Homme  Retraite    2voit\n",
       "4     CSE         cat4    Homme  Retraite    2voit"
      ]
     },
     "execution_count": 8,
     "metadata": {},
     "output_type": "execute_result"
    }
   ],
   "source": [
    "synt_pop = feather.read_feather(\"../data/inputs/pop_synt_men_nantes.feather\")\n",
    "synt_pop = synt_pop.drop(['VOIT'], axis=1) # this attribute is redundant with the attribute 'Voit_rec'\n",
    "synt_pop = synt_pop.dropna() # POV  some values are set to None : it was detected thanks to the functions.validatee_population\n",
    "synt_pop.head()"
   ]
  },
  {
   "cell_type": "markdown",
   "metadata": {},
   "source": [
    "### Calculation of  marginal distribution\n",
    "\n"
   ]
  },
  {
   "cell_type": "code",
   "execution_count": 9,
   "metadata": {},
   "outputs": [
    {
     "data": {
      "text/html": [
       "<div>\n",
       "<style scoped>\n",
       "    .dataframe tbody tr th:only-of-type {\n",
       "        vertical-align: middle;\n",
       "    }\n",
       "\n",
       "    .dataframe tbody tr th {\n",
       "        vertical-align: top;\n",
       "    }\n",
       "\n",
       "    .dataframe thead th {\n",
       "        text-align: right;\n",
       "    }\n",
       "</style>\n",
       "<table border=\"1\" class=\"dataframe\">\n",
       "  <thead>\n",
       "    <tr style=\"text-align: right;\">\n",
       "      <th>Voit_rec</th>\n",
       "      <th>0voit</th>\n",
       "      <th>1voit</th>\n",
       "      <th>2voit</th>\n",
       "      <th>3voit</th>\n",
       "      <th>modality</th>\n",
       "      <th>attribute</th>\n",
       "    </tr>\n",
       "  </thead>\n",
       "  <tbody>\n",
       "    <tr>\n",
       "      <th>ATM</th>\n",
       "      <td>0.215885</td>\n",
       "      <td>0.401376</td>\n",
       "      <td>0.307951</td>\n",
       "      <td>0.074788</td>\n",
       "      <td>ATM</td>\n",
       "      <td>SFM_agg</td>\n",
       "    </tr>\n",
       "    <tr>\n",
       "      <th>CAE1</th>\n",
       "      <td>0.024035</td>\n",
       "      <td>0.243917</td>\n",
       "      <td>0.574045</td>\n",
       "      <td>0.158003</td>\n",
       "      <td>CAE1</td>\n",
       "      <td>SFM_agg</td>\n",
       "    </tr>\n",
       "    <tr>\n",
       "      <th>CAE2</th>\n",
       "      <td>0.014934</td>\n",
       "      <td>0.209368</td>\n",
       "      <td>0.652903</td>\n",
       "      <td>0.122794</td>\n",
       "      <td>CAE2</td>\n",
       "      <td>SFM_agg</td>\n",
       "    </tr>\n",
       "    <tr>\n",
       "      <th>CAE3</th>\n",
       "      <td>0.025977</td>\n",
       "      <td>0.241346</td>\n",
       "      <td>0.611276</td>\n",
       "      <td>0.121401</td>\n",
       "      <td>CAE3</td>\n",
       "      <td>SFM_agg</td>\n",
       "    </tr>\n",
       "    <tr>\n",
       "      <th>CSE</th>\n",
       "      <td>0.036350</td>\n",
       "      <td>0.402528</td>\n",
       "      <td>0.518663</td>\n",
       "      <td>0.042458</td>\n",
       "      <td>CSE</td>\n",
       "      <td>SFM_agg</td>\n",
       "    </tr>\n",
       "  </tbody>\n",
       "</table>\n",
       "</div>"
      ],
      "text/plain": [
       "Voit_rec     0voit     1voit     2voit     3voit modality attribute\n",
       "ATM       0.215885  0.401376  0.307951  0.074788      ATM   SFM_agg\n",
       "CAE1      0.024035  0.243917  0.574045  0.158003     CAE1   SFM_agg\n",
       "CAE2      0.014934  0.209368  0.652903  0.122794     CAE2   SFM_agg\n",
       "CAE3      0.025977  0.241346  0.611276  0.121401     CAE3   SFM_agg\n",
       "CSE       0.036350  0.402528  0.518663  0.042458      CSE   SFM_agg"
      ]
     },
     "execution_count": 9,
     "metadata": {},
     "output_type": "execute_result"
    }
   ],
   "source": [
    "def build_cross_table(pop:pd.DataFrame, names_attribute:list):\n",
    "    \"\"\"\n",
    "    \n",
    "\n",
    "    Parameters\n",
    "    ----------\n",
    "    pop : DataFrame synthesis population\n",
    "    names_attribute: list of two strings\n",
    "           name of attribute1 and name of attribute 2 \n",
    "\n",
    "    Returns\n",
    "    -------\n",
    "    table_percentage : DataFrame\n",
    "          proportion of modalities of attribute 2 given attribute 1\n",
    "\n",
    "\n",
    "    \"\"\"\n",
    "\n",
    "   \n",
    "    name_attribute1=names_attribute[0]\n",
    "    name_attribute2=names_attribute[1]\n",
    "    table_numbers=pd.crosstab(synt_pop[name_attribute2],synt_pop[name_attribute1]) \n",
    "    table_percentage_attribute2=table_numbers.transpose().sum()/table_numbers.transpose().sum().sum()\n",
    "    table_percentage=table_numbers/table_numbers.sum()\n",
    "    table_percentage['all']=table_percentage_attribute2\n",
    "    table_percentage=table_percentage.transpose()\n",
    "    table_percentage['modality']=table_percentage.index\n",
    "    table_percentage['attribute']=name_attribute1\n",
    "    \n",
    "    return table_percentage\n",
    "\n",
    "attributes=list(synt_pop.columns[:-1])\n",
    "marginal_distribution=pd.concat(list(map(lambda a: build_cross_table(synt_pop, [a,'Voit_rec']),attributes)))\n",
    "# removing multiple 'all'\n",
    "marginal_distribution = marginal_distribution.loc[~marginal_distribution.index.duplicated(keep='first')]\n",
    "marginal_distribution.loc[\"all\",\"attribute\"]=\"all\"\n",
    "\n",
    "marginal_distribution.head()\n"
   ]
  },
  {
   "cell_type": "markdown",
   "metadata": {},
   "source": [
    "## Synthetic Population \n",
    "\n",
    "\n"
   ]
  },
  {
   "cell_type": "code",
   "execution_count": 10,
   "metadata": {},
   "outputs": [
    {
     "data": {
      "text/html": [
       "<div>\n",
       "<style scoped>\n",
       "    .dataframe tbody tr th:only-of-type {\n",
       "        vertical-align: middle;\n",
       "    }\n",
       "\n",
       "    .dataframe tbody tr th {\n",
       "        vertical-align: top;\n",
       "    }\n",
       "\n",
       "    .dataframe thead th {\n",
       "        text-align: right;\n",
       "    }\n",
       "</style>\n",
       "<table border=\"1\" class=\"dataframe\">\n",
       "  <thead>\n",
       "    <tr style=\"text-align: right;\">\n",
       "      <th></th>\n",
       "      <th>SFM_agg</th>\n",
       "      <th>AGEREVQb_rec</th>\n",
       "      <th>sexe_rec</th>\n",
       "      <th>prof</th>\n",
       "    </tr>\n",
       "  </thead>\n",
       "  <tbody>\n",
       "    <tr>\n",
       "      <th>0</th>\n",
       "      <td>CSE</td>\n",
       "      <td>cat4</td>\n",
       "      <td>Homme</td>\n",
       "      <td>Retraite</td>\n",
       "    </tr>\n",
       "    <tr>\n",
       "      <th>1</th>\n",
       "      <td>CSE</td>\n",
       "      <td>cat4</td>\n",
       "      <td>Homme</td>\n",
       "      <td>Retraite</td>\n",
       "    </tr>\n",
       "    <tr>\n",
       "      <th>2</th>\n",
       "      <td>CSE</td>\n",
       "      <td>cat4</td>\n",
       "      <td>Homme</td>\n",
       "      <td>Retraite</td>\n",
       "    </tr>\n",
       "    <tr>\n",
       "      <th>3</th>\n",
       "      <td>CSE</td>\n",
       "      <td>cat4</td>\n",
       "      <td>Homme</td>\n",
       "      <td>Retraite</td>\n",
       "    </tr>\n",
       "    <tr>\n",
       "      <th>4</th>\n",
       "      <td>CSE</td>\n",
       "      <td>cat4</td>\n",
       "      <td>Homme</td>\n",
       "      <td>Retraite</td>\n",
       "    </tr>\n",
       "  </tbody>\n",
       "</table>\n",
       "</div>"
      ],
      "text/plain": [
       "  SFM_agg AGEREVQb_rec sexe_rec      prof\n",
       "0     CSE         cat4    Homme  Retraite\n",
       "1     CSE         cat4    Homme  Retraite\n",
       "2     CSE         cat4    Homme  Retraite\n",
       "3     CSE         cat4    Homme  Retraite\n",
       "4     CSE         cat4    Homme  Retraite"
      ]
     },
     "execution_count": 10,
     "metadata": {},
     "output_type": "execute_result"
    }
   ],
   "source": [
    "synt_pop_defected=synt_pop.drop(['Voit_rec'], axis=1)# attributes number of vehicles are removed\n",
    "\n",
    "synt_pop_defected.head()"
   ]
  },
  {
   "cell_type": "markdown",
   "metadata": {},
   "source": [
    "## Run algorithm"
   ]
  },
  {
   "cell_type": "code",
   "execution_count": 11,
   "metadata": {},
   "outputs": [
    {
     "name": "stdout",
     "output_type": "stream",
     "text": [
      "SFM_agg ['ATM', 'CAE1', 'CAE2', 'CAE3', 'CSE', 'FM', 'PS']\n",
      "AGEREVQb_rec ['cat1', 'cat2', 'cat3', 'cat4', 'cat5']\n",
      "sexe_rec ['Femme', 'Homme']\n",
      "prof ['Agri', 'Artisans', 'Autres_inac', 'Cadres', 'Chom', 'Eleve', 'Empl', 'Ouvriers', 'Prof_int', 'Retraite']\n"
     ]
    }
   ],
   "source": [
    "modalities_dict={}\n",
    "for a in attributes: \n",
    "    modalities=list(marginal_distribution[marginal_distribution['attribute']==a].index)\n",
    "    modalities_dict[a]=modalities\n",
    "MODALITIES=modalities_dict\n",
    "for key in MODALITIES.keys():\n",
    "    print(key, MODALITIES[key])\n"
   ]
  },
  {
   "cell_type": "code",
   "execution_count": 13,
   "metadata": {},
   "outputs": [
    {
     "name": "stdout",
     "output_type": "stream",
     "text": [
      "Computing feature 0 of 21 ...\n",
      "Computing feature 1 of 21 ...\n",
      "Computing feature 2 of 21 ...\n",
      "Computing feature 3 of 21 ...\n",
      "Computing feature 4 of 21 ...\n",
      "Computing feature 5 of 21 ...\n",
      "Computing feature 6 of 21 ...\n",
      "Computing feature 7 of 21 ...\n",
      "Computing feature 8 of 21 ...\n",
      "Computing feature 9 of 21 ...\n",
      "Computing feature 10 of 21 ...\n",
      "Computing feature 11 of 21 ...\n",
      "Computing feature 12 of 21 ...\n",
      "Computing feature 13 of 21 ...\n",
      "Computing feature 14 of 21 ...\n",
      "Computing feature 15 of 21 ...\n",
      "Computing feature 16 of 21 ...\n",
      "Computing feature 17 of 21 ...\n",
      "Computing feature 18 of 21 ...\n",
      "Computing feature 19 of 21 ...\n",
      "Computing feature 20 of 21 ...\n"
     ]
    },
    {
     "ename": "KeyError",
     "evalue": "'prob'",
     "output_type": "error",
     "traceback": [
      "\u001b[0;31m---------------------------------------------------------------------------\u001b[0m",
      "\u001b[0;31mKeyError\u001b[0m                                  Traceback (most recent call last)",
      "File \u001b[0;32m~/anaconda3/lib/python3.9/site-packages/pandas/core/indexes/base.py:3621\u001b[0m, in \u001b[0;36mIndex.get_loc\u001b[0;34m(self, key, method, tolerance)\u001b[0m\n\u001b[1;32m   3620\u001b[0m \u001b[38;5;28;01mtry\u001b[39;00m:\n\u001b[0;32m-> 3621\u001b[0m     \u001b[38;5;28;01mreturn\u001b[39;00m \u001b[38;5;28;43mself\u001b[39;49m\u001b[38;5;241;43m.\u001b[39;49m\u001b[43m_engine\u001b[49m\u001b[38;5;241;43m.\u001b[39;49m\u001b[43mget_loc\u001b[49m\u001b[43m(\u001b[49m\u001b[43mcasted_key\u001b[49m\u001b[43m)\u001b[49m\n\u001b[1;32m   3622\u001b[0m \u001b[38;5;28;01mexcept\u001b[39;00m \u001b[38;5;167;01mKeyError\u001b[39;00m \u001b[38;5;28;01mas\u001b[39;00m err:\n",
      "File \u001b[0;32m~/anaconda3/lib/python3.9/site-packages/pandas/_libs/index.pyx:136\u001b[0m, in \u001b[0;36mpandas._libs.index.IndexEngine.get_loc\u001b[0;34m()\u001b[0m\n",
      "File \u001b[0;32m~/anaconda3/lib/python3.9/site-packages/pandas/_libs/index.pyx:163\u001b[0m, in \u001b[0;36mpandas._libs.index.IndexEngine.get_loc\u001b[0;34m()\u001b[0m\n",
      "File \u001b[0;32mpandas/_libs/hashtable_class_helper.pxi:5198\u001b[0m, in \u001b[0;36mpandas._libs.hashtable.PyObjectHashTable.get_item\u001b[0;34m()\u001b[0m\n",
      "File \u001b[0;32mpandas/_libs/hashtable_class_helper.pxi:5206\u001b[0m, in \u001b[0;36mpandas._libs.hashtable.PyObjectHashTable.get_item\u001b[0;34m()\u001b[0m\n",
      "\u001b[0;31mKeyError\u001b[0m: 'prob'",
      "\nThe above exception was the direct cause of the following exception:\n",
      "\u001b[0;31mKeyError\u001b[0m                                  Traceback (most recent call last)",
      "Input \u001b[0;32mIn [13]\u001b[0m, in \u001b[0;36m<cell line: 13>\u001b[0;34m()\u001b[0m\n\u001b[1;32m      8\u001b[0m enrich_class \u001b[38;5;241m=\u001b[39m MaxEntropyEnrichment_qualitative(\n\u001b[1;32m      9\u001b[0m     synt_pop_defected,  marginal_distribution, MODALITIES, parameters\u001b[38;5;241m=\u001b[39mPARAMETERS, seed\u001b[38;5;241m=\u001b[39m\u001b[38;5;241m42\u001b[39m\n\u001b[1;32m     10\u001b[0m )\n\u001b[1;32m     12\u001b[0m \u001b[38;5;66;03m# Run optimisation\u001b[39;00m\n\u001b[0;32m---> 13\u001b[0m \u001b[43menrich_class\u001b[49m\u001b[38;5;241;43m.\u001b[39;49m\u001b[43moptimise\u001b[49m\u001b[43m(\u001b[49m\u001b[43m)\u001b[49m\n\u001b[1;32m     15\u001b[0m \u001b[38;5;66;03m# Assign data to synthetic population\u001b[39;00m\n\u001b[1;32m     16\u001b[0m pop \u001b[38;5;241m=\u001b[39m enrich_class\u001b[38;5;241m.\u001b[39massign_feature_value_to_pop()\n",
      "File \u001b[0;32m~/github/bhepop2/bhepop2/max_entropy_enrich_qualitative.py:757\u001b[0m, in \u001b[0;36mMaxEntropyEnrichment_qualitative.optimise\u001b[0;34m(self)\u001b[0m\n\u001b[1;32m    755\u001b[0m \u001b[38;5;66;03m# compute matrix of constraints\u001b[39;00m\n\u001b[1;32m    756\u001b[0m \u001b[38;5;28mself\u001b[39m\u001b[38;5;241m.\u001b[39mlog(\u001b[38;5;124m\"\u001b[39m\u001b[38;5;124mComputing optimization constraints\u001b[39m\u001b[38;5;124m\"\u001b[39m, lg\u001b[38;5;241m.\u001b[39mINFO)\n\u001b[0;32m--> 757\u001b[0m \u001b[38;5;28;43mself\u001b[39;49m\u001b[38;5;241;43m.\u001b[39;49m\u001b[43m_compute_constraints\u001b[49m\u001b[43m(\u001b[49m\u001b[43m)\u001b[49m\n\u001b[1;32m    759\u001b[0m \u001b[38;5;66;03m# run resolution\u001b[39;00m\n\u001b[1;32m    760\u001b[0m \u001b[38;5;28mself\u001b[39m\u001b[38;5;241m.\u001b[39mlog(\u001b[38;5;124m\"\u001b[39m\u001b[38;5;124mStarting optimization by entropy maximisation\u001b[39m\u001b[38;5;124m\"\u001b[39m, lg\u001b[38;5;241m.\u001b[39mINFO)\n",
      "File \u001b[0;32m~/github/bhepop2/bhepop2/max_entropy_enrich_qualitative.py:890\u001b[0m, in \u001b[0;36mMaxEntropyEnrichment_qualitative._compute_constraints\u001b[0;34m(self)\u001b[0m\n\u001b[1;32m    888\u001b[0m     df \u001b[38;5;241m=\u001b[39m ech[attribute][modality]\n\u001b[1;32m    889\u001b[0m     \u001b[38;5;66;03m# prob(feature | modality) * frequency // ech is modified inplace here\u001b[39;00m\n\u001b[0;32m--> 890\u001b[0m     df[\u001b[38;5;124m\"\u001b[39m\u001b[38;5;124mprob\u001b[39m\u001b[38;5;124m\"\u001b[39m] \u001b[38;5;241m=\u001b[39m \u001b[43mdf\u001b[49m\u001b[43m[\u001b[49m\u001b[38;5;124;43m\"\u001b[39;49m\u001b[38;5;124;43mprob\u001b[39;49m\u001b[38;5;124;43m\"\u001b[39;49m\u001b[43m]\u001b[49m \u001b[38;5;241m*\u001b[39m \u001b[38;5;28mfloat\u001b[39m(probability)\n\u001b[1;32m    892\u001b[0m ech_list \u001b[38;5;241m=\u001b[39m []\n\u001b[1;32m    893\u001b[0m \u001b[38;5;28;01mfor\u001b[39;00m modality \u001b[38;5;129;01min\u001b[39;00m ech[attribute]:\n",
      "File \u001b[0;32m~/anaconda3/lib/python3.9/site-packages/pandas/core/frame.py:3505\u001b[0m, in \u001b[0;36mDataFrame.__getitem__\u001b[0;34m(self, key)\u001b[0m\n\u001b[1;32m   3503\u001b[0m \u001b[38;5;28;01mif\u001b[39;00m \u001b[38;5;28mself\u001b[39m\u001b[38;5;241m.\u001b[39mcolumns\u001b[38;5;241m.\u001b[39mnlevels \u001b[38;5;241m>\u001b[39m \u001b[38;5;241m1\u001b[39m:\n\u001b[1;32m   3504\u001b[0m     \u001b[38;5;28;01mreturn\u001b[39;00m \u001b[38;5;28mself\u001b[39m\u001b[38;5;241m.\u001b[39m_getitem_multilevel(key)\n\u001b[0;32m-> 3505\u001b[0m indexer \u001b[38;5;241m=\u001b[39m \u001b[38;5;28;43mself\u001b[39;49m\u001b[38;5;241;43m.\u001b[39;49m\u001b[43mcolumns\u001b[49m\u001b[38;5;241;43m.\u001b[39;49m\u001b[43mget_loc\u001b[49m\u001b[43m(\u001b[49m\u001b[43mkey\u001b[49m\u001b[43m)\u001b[49m\n\u001b[1;32m   3506\u001b[0m \u001b[38;5;28;01mif\u001b[39;00m is_integer(indexer):\n\u001b[1;32m   3507\u001b[0m     indexer \u001b[38;5;241m=\u001b[39m [indexer]\n",
      "File \u001b[0;32m~/anaconda3/lib/python3.9/site-packages/pandas/core/indexes/base.py:3623\u001b[0m, in \u001b[0;36mIndex.get_loc\u001b[0;34m(self, key, method, tolerance)\u001b[0m\n\u001b[1;32m   3621\u001b[0m     \u001b[38;5;28;01mreturn\u001b[39;00m \u001b[38;5;28mself\u001b[39m\u001b[38;5;241m.\u001b[39m_engine\u001b[38;5;241m.\u001b[39mget_loc(casted_key)\n\u001b[1;32m   3622\u001b[0m \u001b[38;5;28;01mexcept\u001b[39;00m \u001b[38;5;167;01mKeyError\u001b[39;00m \u001b[38;5;28;01mas\u001b[39;00m err:\n\u001b[0;32m-> 3623\u001b[0m     \u001b[38;5;28;01mraise\u001b[39;00m \u001b[38;5;167;01mKeyError\u001b[39;00m(key) \u001b[38;5;28;01mfrom\u001b[39;00m \u001b[38;5;21;01merr\u001b[39;00m\n\u001b[1;32m   3624\u001b[0m \u001b[38;5;28;01mexcept\u001b[39;00m \u001b[38;5;167;01mTypeError\u001b[39;00m:\n\u001b[1;32m   3625\u001b[0m     \u001b[38;5;66;03m# If we have a listlike key, _check_indexing_error will raise\u001b[39;00m\n\u001b[1;32m   3626\u001b[0m     \u001b[38;5;66;03m#  InvalidIndexError. Otherwise we fall through and re-raise\u001b[39;00m\n\u001b[1;32m   3627\u001b[0m     \u001b[38;5;66;03m#  the TypeError.\u001b[39;00m\n\u001b[1;32m   3628\u001b[0m     \u001b[38;5;28mself\u001b[39m\u001b[38;5;241m.\u001b[39m_check_indexing_error(key)\n",
      "\u001b[0;31mKeyError\u001b[0m: 'prob'"
     ]
    }
   ],
   "source": [
    "# Algorithm parameters\n",
    "PARAMETERS = {\n",
    "    \"maxentropy_algorithm\": \"Nelder-Mead\",\n",
    "    \"maxentropy_verbose\": 1,\n",
    "    }\n",
    "\n",
    "# Optimisation preparation\n",
    "enrich_class = MaxEntropyEnrichment_qualitative(\n",
    "    synt_pop_defected,  marginal_distribution, MODALITIES, parameters=PARAMETERS, seed=42\n",
    ")\n",
    "\n",
    "# Run optimisation\n",
    "enrich_class.optimise()\n",
    "\n",
    "# Assign data to synthetic population\n",
    "pop = enrich_class.assign_feature_value_to_pop()\n",
    "\n",
    "pop.head()"
   ]
  },
  {
   "cell_type": "markdown",
   "metadata": {},
   "source": [
    "## Results analysis"
   ]
  },
  {
   "cell_type": "markdown",
   "metadata": {},
   "source": [
    "### Data preparation"
   ]
  },
  {
   "cell_type": "markdown",
   "metadata": {},
   "source": [
    "Format Filosofi data for comparison."
   ]
  },
  {
   "cell_type": "code",
   "execution_count": null,
   "metadata": {},
   "outputs": [],
   "source": [
    "filosofi_formated = filosofi.copy()\n",
    "del filosofi_formated[\"commune_id\"]\n",
    "del filosofi_formated[\"reference_median\"]\n",
    "\n",
    "filosofi_formated = filosofi_formated.melt(\n",
    "    id_vars=[\"attribute\", \"modality\"],\n",
    "    value_vars=[\"D1\", \"D2\", \"D3\", \"D4\", \"D5\", \"D6\", \"D7\", \"D8\", \"D9\"],\n",
    "    value_name=\"feature\",\n",
    "    var_name=\"decile\",\n",
    ")\n",
    "filosofi_formated[\"source\"] = \"Filosofi\""
   ]
  },
  {
   "cell_type": "markdown",
   "metadata": {},
   "source": [
    "Format simulation data for comparison."
   ]
  },
  {
   "cell_type": "code",
   "execution_count": null,
   "metadata": {},
   "outputs": [],
   "source": [
    "# distribution of all households\n",
    "df_analysis = compute_distribution(pop)\n",
    "df_analysis[\"attribute\"] = \"all\"\n",
    "df_analysis[\"modality\"] = \"all\"\n",
    "\n",
    "# distribution of each modality\n",
    "for attribute in MODALITIES.keys():\n",
    "    for modality in MODALITIES[attribute]:\n",
    "        distribution = compute_distribution(pop[pop[attribute] == modality])\n",
    "        distribution[\"attribute\"] = attribute\n",
    "        distribution[\"modality\"] = modality\n",
    "\n",
    "        df_analysis = pd.concat([df_analysis, distribution])\n",
    "\n",
    "df_analysis[\"source\"] = \"bhepop2\""
   ]
  },
  {
   "cell_type": "markdown",
   "metadata": {},
   "source": [
    "Merge observed Filosofi and simulation data."
   ]
  },
  {
   "cell_type": "code",
   "execution_count": null,
   "metadata": {},
   "outputs": [],
   "source": [
    "# add filosofi data\n",
    "df_analysis = pd.concat([df_analysis, filosofi_formated])\n",
    "\n",
    "# format data\n",
    "df_analysis = df_analysis.pivot(\n",
    "    columns=\"source\", index=[\"attribute\", \"modality\", \"decile\"]\n",
    ").reset_index()\n",
    "df_analysis.columns = [\"attribute\", \"modality\", \"decile\", \"Filosofi\", \"bhepop2\"]"
   ]
  },
  {
   "cell_type": "markdown",
   "metadata": {},
   "source": [
    "### Some plots"
   ]
  },
  {
   "cell_type": "code",
   "execution_count": null,
   "metadata": {},
   "outputs": [],
   "source": [
    "from IPython.display import Image"
   ]
  },
  {
   "cell_type": "code",
   "execution_count": null,
   "metadata": {},
   "outputs": [],
   "source": [
    "Image(plot_analysis(df_analysis, \"all\", \"all\").to_image())"
   ]
  },
  {
   "cell_type": "code",
   "execution_count": null,
   "metadata": {},
   "outputs": [],
   "source": [
    "Image(plot_analysis(df_analysis, \"ownership\", \"Tenant\").to_image())"
   ]
  },
  {
   "cell_type": "code",
   "execution_count": null,
   "metadata": {},
   "outputs": [],
   "source": [
    "Image(plot_analysis(df_analysis, \"age\", \"30_39\").to_image())"
   ]
  },
  {
   "cell_type": "code",
   "execution_count": null,
   "metadata": {},
   "outputs": [],
   "source": [
    "Image(plot_analysis(df_analysis, \"size\", \"3_pers\").to_image())"
   ]
  },
  {
   "cell_type": "code",
   "execution_count": null,
   "metadata": {},
   "outputs": [],
   "source": [
    "Image(plot_analysis(df_analysis, \"family_comp\", \"Single_parent\").to_image())"
   ]
  }
 ],
 "metadata": {
  "kernelspec": {
   "display_name": "Python 3 (ipykernel)",
   "language": "python",
   "name": "python3"
  },
  "language_info": {
   "codemirror_mode": {
    "name": "ipython",
    "version": 3
   },
   "file_extension": ".py",
   "mimetype": "text/x-python",
   "name": "python",
   "nbconvert_exporter": "python",
   "pygments_lexer": "ipython3",
   "version": "3.9.12"
  },
  "vscode": {
   "interpreter": {
    "hash": "df27ac0783f374db399ab7b675c5fa9ab235c5218fce6df22544d0540f06a113"
   }
  }
 },
 "nbformat": 4,
 "nbformat_minor": 2
}
