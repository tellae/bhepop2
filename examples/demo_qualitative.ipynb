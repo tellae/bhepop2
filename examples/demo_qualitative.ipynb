{
 "cells": [
  {
   "cell_type": "raw",
   "metadata": {},
   "source": [
    "---\n",
    "title: \"Adding a qualitative feature to a synthetic population of households\"\n",
    "format: \n",
    "  html:\n",
    "    code-fold: true\n",
    "jupyter: python3\n",
    "---"
   ]
  },
  {
   "cell_type": "markdown",
   "metadata": {},
   "source": [
    "# Adding a qualitative feature to a synthetic population of households\n",
    "\n",
    "\n",
    "This notebook supports the paper  \"A Bayesian heuristic to enrich a synthesis population by entropy optimization from aggregate data \" from Pierre-Olivier Vandanjon, Boyam Fabrice Yaméogo, Pierre Hankach and Pascal Gastineau.\n",
    "\n",
    "The core of the notebook  is to assess the Bhepop2 methodology on a real case. \n",
    "\n",
    "This notebook starts from a generation of synthetic households' population created for the city of Nantes. This synthetic population has an attribute, which is the number of cars owned by the household. We will refer to this population as the initial population.\n",
    "\n",
    "We calculate the marginals for each modality of the synthetic population in the form of a percentage for this modality to have one of the modalities of the attribute \"number of cars\". For example, we calculate the percentage for a man to own a car. This table of marginals can be interpreted as a probability distribution, which is called  marginal distributions.\n",
    "\n",
    "We apply the qualitative Bhepop2 algorithm with two inputs:\n",
    "\n",
    "* The synthetic population without the attribute \"number of cars owned by the household\". We will call it the truncated population.\n",
    "* The marginal distributions of this attribute.\n",
    "\n",
    "The Bhepop2 algorithm will infer the truncated synthetic population with the attribute \"number of cars\". We will refer to the output of Bhepop2 as the reconstructed population.\n",
    "\n",
    "We build also a naive population starting from the truncated population. For each agent of this truncated population, a modality of the attribute \"number of cars\" is appended according to the distribution of the modalities of the attribute \" number of cars \"in the initial population.\n",
    "\n",
    "Then we compare the naive and reconstructed populations with the initial population through some metrics. \n",
    "\n",
    "**This code works when jupyter lab is called from the terminal, problem occurs when jupyterlab is called from the anaconda navigator**"
   ]
  },
  {
   "cell_type": "code",
   "execution_count": 1,
   "metadata": {
    "tags": []
   },
   "outputs": [],
   "source": [
    "import pandas as pd\n",
    "import itertools\n",
    "\n",
    "from bhepop2.functions import *\n"
   ]
  },
  {
   "cell_type": "markdown",
   "metadata": {},
   "source": [
    "## Data preparation\n",
    "\n",
    "Read synthetic population \n",
    "\n"
   ]
  },
  {
   "cell_type": "code",
   "execution_count": 2,
   "metadata": {
    "tags": []
   },
   "outputs": [
    {
     "name": "stdout",
     "output_type": "stream",
     "text": [
      "  SFM_agg AGEREVQb_rec sexe_rec      prof Voit_rec\n",
      "0     CSE         cat4    Homme  Retraite    2voit\n",
      "1     CSE         cat4    Homme  Retraite    2voit\n",
      "2     CSE         cat4    Homme  Retraite    2voit\n",
      "3     CSE         cat4    Homme  Retraite    2voit\n",
      "4     CSE         cat4    Homme  Retraite    2voit\n"
     ]
    }
   ],
   "source": [
    "synt_pop = pd.read_csv(\"../tests/data/pop_synth_men_nantes.csv\")\n",
    "print(synt_pop.head())"
   ]
  },
  {
   "cell_type": "markdown",
   "metadata": {
    "tags": []
   },
   "source": [
    "## General parameters"
   ]
  },
  {
   "cell_type": "code",
   "execution_count": 3,
   "metadata": {
    "tags": []
   },
   "outputs": [],
   "source": [
    "test_seed = 42\n",
    "nagents = len(synt_pop)\n",
    "eps_proba = 1e-6/nagents # proba under eps_proba are considered as null\n",
    "proba_min = 0.1/nagents  # we set this proba for cross modalities which are nos observed in the population, Following Laplce, if this value should be 1/nagent\n"
   ]
  },
  {
   "cell_type": "markdown",
   "metadata": {},
   "source": [
    "## Calculation of  marginal distribution\n",
    "\n"
   ]
  },
  {
   "cell_type": "code",
   "execution_count": 4,
   "metadata": {
    "tags": []
   },
   "outputs": [],
   "source": [
    "def build_cross_table(pop:pd.DataFrame, names_attribute:list):\n",
    "    \"\"\"\n",
    "    \n",
    "\n",
    "    Parameters\n",
    "    ----------\n",
    "    pop : DataFrame synthesis population\n",
    "    names_attribute: list of two strings\n",
    "           name of attribute1 and name of attribute 2 \n",
    "\n",
    "    Returns\n",
    "    -------\n",
    "    table_percentage : DataFrame\n",
    "          proportion of modalities of attribute 2 given attribute 1\n",
    "\n",
    "\n",
    "    \"\"\"\n",
    "\n",
    "   \n",
    "    name_attribute1=names_attribute[0]\n",
    "    name_attribute2=names_attribute[1]\n",
    "    table_numbers=pd.crosstab(pop[name_attribute2],pop[name_attribute1]) \n",
    "    table_percentage_attribute2=table_numbers.transpose().sum()/table_numbers.transpose().sum().sum()\n",
    "    table_percentage=table_numbers/table_numbers.sum()\n",
    "    table_percentage['all']=table_percentage_attribute2\n",
    "    table_percentage=table_percentage.transpose()\n",
    "    table_percentage['modality']=table_percentage.index\n",
    "    table_percentage['attribute']=name_attribute1\n",
    "    \n",
    "    return table_percentage\n",
    "\n"
   ]
  },
  {
   "cell_type": "code",
   "execution_count": 5,
   "metadata": {
    "tags": []
   },
   "outputs": [
    {
     "name": "stdout",
     "output_type": "stream",
     "text": [
      "Voit_rec     0voit     1voit     2voit     3voit modality attribute\n",
      "ATM       0.215885  0.401376  0.307951  0.074788      ATM   SFM_agg\n",
      "CAE1      0.024035  0.243917  0.574045  0.158003     CAE1   SFM_agg\n",
      "CAE2      0.014934  0.209368  0.652903  0.122794     CAE2   SFM_agg\n",
      "CAE3      0.025977  0.241346  0.611276  0.121401     CAE3   SFM_agg\n",
      "CSE       0.036350  0.402528  0.518663  0.042458      CSE   SFM_agg\n"
     ]
    }
   ],
   "source": [
    "attributes=list(synt_pop.columns[:-1])\n",
    "marginal_distribution=pd.concat(list(map(lambda a: build_cross_table(synt_pop, [a,'Voit_rec']),attributes)))\n",
    "# removing multiple 'all'\n",
    "marginal_distribution = marginal_distribution.loc[~marginal_distribution.index.duplicated(keep='first')]\n",
    "marginal_distribution.loc[\"all\",\"attribute\"]=\"all\"\n",
    "\n",
    "print(marginal_distribution.head())"
   ]
  },
  {
   "cell_type": "code",
   "execution_count": 6,
   "metadata": {
    "tags": []
   },
   "outputs": [
    {
     "name": "stdout",
     "output_type": "stream",
     "text": [
      "  SFM_agg AGEREVQb_rec sexe_rec      prof Voit_rec\n",
      "0     CSE         cat4    Homme  Retraite    2voit\n",
      "1     CSE         cat4    Homme  Retraite    2voit\n",
      "2     CSE         cat4    Homme  Retraite    2voit\n",
      "3     CSE         cat4    Homme  Retraite    2voit\n",
      "4     CSE         cat4    Homme  Retraite    2voit\n"
     ]
    }
   ],
   "source": [
    "print(synt_pop.head())"
   ]
  },
  {
   "cell_type": "markdown",
   "metadata": {},
   "source": [
    "## Synthetic Population \n",
    "\n",
    "\n"
   ]
  },
  {
   "cell_type": "markdown",
   "metadata": {},
   "source": [
    "### The real distribution"
   ]
  },
  {
   "cell_type": "code",
   "execution_count": 7,
   "metadata": {
    "tags": []
   },
   "outputs": [
    {
     "data": {
      "text/html": [
       "<div>\n",
       "<style scoped>\n",
       "    .dataframe tbody tr th:only-of-type {\n",
       "        vertical-align: middle;\n",
       "    }\n",
       "\n",
       "    .dataframe tbody tr th {\n",
       "        vertical-align: top;\n",
       "    }\n",
       "\n",
       "    .dataframe thead th {\n",
       "        text-align: right;\n",
       "    }\n",
       "</style>\n",
       "<table border=\"1\" class=\"dataframe\">\n",
       "  <thead>\n",
       "    <tr style=\"text-align: right;\">\n",
       "      <th></th>\n",
       "      <th>AGEREVQb_rec</th>\n",
       "      <th>SFM_agg</th>\n",
       "      <th>prof</th>\n",
       "      <th>sexe_rec</th>\n",
       "      <th>Voit_rec</th>\n",
       "      <th>probability</th>\n",
       "    </tr>\n",
       "  </thead>\n",
       "  <tbody>\n",
       "    <tr>\n",
       "      <th>0</th>\n",
       "      <td>cat1</td>\n",
       "      <td>ATM</td>\n",
       "      <td>Agri</td>\n",
       "      <td>Homme</td>\n",
       "      <td>0voit</td>\n",
       "      <td>0.000002</td>\n",
       "    </tr>\n",
       "    <tr>\n",
       "      <th>1</th>\n",
       "      <td>cat1</td>\n",
       "      <td>ATM</td>\n",
       "      <td>Agri</td>\n",
       "      <td>Homme</td>\n",
       "      <td>2voit</td>\n",
       "      <td>0.000014</td>\n",
       "    </tr>\n",
       "    <tr>\n",
       "      <th>2</th>\n",
       "      <td>cat1</td>\n",
       "      <td>ATM</td>\n",
       "      <td>Artisans</td>\n",
       "      <td>Femme</td>\n",
       "      <td>0voit</td>\n",
       "      <td>0.000013</td>\n",
       "    </tr>\n",
       "    <tr>\n",
       "      <th>3</th>\n",
       "      <td>cat1</td>\n",
       "      <td>ATM</td>\n",
       "      <td>Artisans</td>\n",
       "      <td>Femme</td>\n",
       "      <td>1voit</td>\n",
       "      <td>0.000010</td>\n",
       "    </tr>\n",
       "    <tr>\n",
       "      <th>4</th>\n",
       "      <td>cat1</td>\n",
       "      <td>ATM</td>\n",
       "      <td>Artisans</td>\n",
       "      <td>Femme</td>\n",
       "      <td>2voit</td>\n",
       "      <td>0.000019</td>\n",
       "    </tr>\n",
       "  </tbody>\n",
       "</table>\n",
       "</div>"
      ],
      "text/plain": [
       "  AGEREVQb_rec SFM_agg      prof sexe_rec Voit_rec  probability\n",
       "0         cat1     ATM      Agri    Homme    0voit     0.000002\n",
       "1         cat1     ATM      Agri    Homme    2voit     0.000014\n",
       "2         cat1     ATM  Artisans    Femme    0voit     0.000013\n",
       "3         cat1     ATM  Artisans    Femme    1voit     0.000010\n",
       "4         cat1     ATM  Artisans    Femme    2voit     0.000019"
      ]
     },
     "execution_count": 7,
     "metadata": {},
     "output_type": "execute_result"
    }
   ],
   "source": [
    "modalities = infer_modalities_from_distributions(marginal_distribution)\n",
    "modalities[\"Voit_rec\"] = [\"0voit\", \"1voit\", \"2voit\", \"3voit\"]\n",
    "test = compute_crossed_modalities_frequencies(synt_pop, modalities)\n",
    "test.head()"
   ]
  },
  {
   "cell_type": "markdown",
   "metadata": {},
   "source": [
    "### The truncated populaton\n",
    "the population without the feature to guess (here Voit_rec)"
   ]
  },
  {
   "cell_type": "code",
   "execution_count": 8,
   "metadata": {
    "tags": []
   },
   "outputs": [
    {
     "name": "stdout",
     "output_type": "stream",
     "text": [
      "  SFM_agg AGEREVQb_rec sexe_rec      prof\n",
      "0     CSE         cat4    Homme  Retraite\n",
      "1     CSE         cat4    Homme  Retraite\n",
      "2     CSE         cat4    Homme  Retraite\n",
      "3     CSE         cat4    Homme  Retraite\n",
      "4     CSE         cat4    Homme  Retraite\n"
     ]
    }
   ],
   "source": [
    "synt_pop_defected=synt_pop.copy()\n",
    "synt_pop_defected = synt_pop_defected.drop(['Voit_rec'], axis=1)\n",
    "print(synt_pop_defected.head())"
   ]
  },
  {
   "cell_type": "markdown",
   "metadata": {},
   "source": [
    "## Run optimisation"
   ]
  },
  {
   "cell_type": "markdown",
   "metadata": {},
   "source": [
    "Inputs : the truncated population and the marginal distribution of the feature (Voit = car)"
   ]
  },
  {
   "cell_type": "code",
   "execution_count": 9,
   "metadata": {
    "tags": []
   },
   "outputs": [
    {
     "name": "stdout",
     "output_type": "stream",
     "text": [
      "  SFM_agg AGEREVQb_rec sexe_rec      prof Voit_rec\n",
      "0     CSE         cat4    Homme  Retraite    2voit\n",
      "1     CSE         cat4    Homme  Retraite    0voit\n",
      "2     CSE         cat4    Homme  Retraite    1voit\n",
      "3     CSE         cat4    Homme  Retraite    1voit\n",
      "4     CSE         cat4    Homme  Retraite    2voit\n"
     ]
    }
   ],
   "source": [
    "from bhepop2.qualitative_enrichment import QualitativeEnrichment\n",
    "\n",
    "enrich_class = QualitativeEnrichment(\n",
    "synt_pop_defected, marginal_distribution, seed=test_seed\n",
    "    )\n",
    "\n",
    "# Run optimisation\n",
    "enrich_class.optimise()\n",
    "\n",
    "# Assign data to synthetic population\n",
    "bhepop2_pop = enrich_class.assign_feature_value_to_pop()\n",
    "bhepop2_pop.rename(columns={\"feature\":\"Voit_rec\"},inplace=True) # rename feaure in Voit_rec in order to compare with the true population\n",
    "\n",
    "print(bhepop2_pop.head())"
   ]
  },
  {
   "cell_type": "markdown",
   "metadata": {},
   "source": [
    "## Resulsts analysis"
   ]
  },
  {
   "cell_type": "markdown",
   "metadata": {},
   "source": [
    "### Data preparation"
   ]
  },
  {
   "cell_type": "code",
   "execution_count": 10,
   "metadata": {},
   "outputs": [],
   "source": [
    "from bhepop2.analysis import QualitativeAnalysis\n",
    "\n",
    "populations = {\n",
    "    \"enriched_population\": bhepop2_pop\n",
    "}\n",
    "\n",
    "analysis = QualitativeAnalysis(populations, enrich_class.modalities, \"Voit_rec\", marginal_distribution)"
   ]
  },
  {
   "cell_type": "markdown",
   "metadata": {},
   "source": [
    "### Some plots"
   ]
  },
  {
   "cell_type": "code",
   "execution_count": 11,
   "metadata": {},
   "outputs": [],
   "source": [
    "from IPython.display import Image"
   ]
  },
  {
   "cell_type": "code",
   "execution_count": 12,
   "metadata": {},
   "outputs": [
    {
     "data": {
      "image/png": "[encoded data removed]",
      "text/plain": [
       "<IPython.core.display.Image object>"
      ]
     },
     "execution_count": 12,
     "metadata": {},
     "output_type": "execute_result"
    }
   ],
   "source": [
    "Image(analysis.plot_analysis_compare(\"all\", \"all\").to_image())"
   ]
  },
  {
   "cell_type": "code",
   "execution_count": 13,
   "metadata": {},
   "outputs": [
    {
     "data": {
      "image/png": "[encoded data removed]",
      "text/plain": [
       "<IPython.core.display.Image object>"
      ]
     },
     "execution_count": 13,
     "metadata": {},
     "output_type": "execute_result"
    }
   ],
   "source": [
    "Image(analysis.plot_analysis_compare(\"AGEREVQb_rec\", \"cat4\").to_image())"
   ]
  },
  {
   "cell_type": "code",
   "execution_count": 14,
   "metadata": {},
   "outputs": [
    {
     "data": {
      "image/png": "[encoded data removed]",
      "text/plain": [
       "<IPython.core.display.Image object>"
      ]
     },
     "execution_count": 14,
     "metadata": {},
     "output_type": "execute_result"
    }
   ],
   "source": [
    "Image(analysis.plot_analysis_compare(\"prof\", \"Retraite\").to_image())"
   ]
  },
  {
   "cell_type": "markdown",
   "metadata": {},
   "source": [
    "## Computation of a common solution based on the total marginal distribution "
   ]
  },
  {
   "cell_type": "markdown",
   "metadata": {},
   "source": [
    "the bhepop2 solution will be compare with a common solution by samping according to the general frequeny of the feature in the initial population. \n"
   ]
  },
  {
   "cell_type": "code",
   "execution_count": 15,
   "metadata": {
    "tags": []
   },
   "outputs": [
    {
     "name": "stdout",
     "output_type": "stream",
     "text": [
      "  SFM_agg AGEREVQb_rec sexe_rec      prof Voit_rec\n",
      "0     CSE         cat4    Homme  Retraite    1voit\n",
      "1     CSE         cat4    Homme  Retraite    2voit\n",
      "2     CSE         cat4    Homme  Retraite    1voit\n",
      "3     CSE         cat4    Homme  Retraite    2voit\n",
      "4     CSE         cat4    Homme  Retraite    2voit\n"
     ]
    }
   ],
   "source": [
    "ligne_all_voit = marginal_distribution.loc[marginal_distribution['attribute'] == 'all', '0voit':'3voit'].values\n",
    "ligne_all_voit = ligne_all_voit[0] # the output of the previous line is 2D, it is downsized to 1D\n",
    "common_pop=synt_pop_defected\n",
    "common_pop['Voit_rec']=np.random.choice(['0voit', '1voit', '2voit', '3voit'], size=len(common_pop), p=ligne_all_voit)\n",
    "print(common_pop.head())\n",
    "\n"
   ]
  },
  {
   "cell_type": "markdown",
   "metadata": {},
   "source": [
    "## Metric Computation"
   ]
  },
  {
   "cell_type": "code",
   "execution_count": 16,
   "metadata": {
    "tags": []
   },
   "outputs": [],
   "source": [
    "def build_probability_vector(probability_df, modalities, feature_column):\n",
    "    \"\"\"\n",
    "   Inspect the cross-modalities between the columns of the probability_df DataFrame and the modalities provided in the modalities dictionary. \n",
    "   Add the value 'feature' if the combination of modalities exists in the probability_df, otherwise add zero\n",
    "\n",
    "    Args:\n",
    "    probability_df (pd.DataFrame): DataFrame to inspect\n",
    "    modalities (dict): Dictionnaire des modalités pour chaque colonne.\n",
    "    feature_column (str): Nom de la colonne contenant les valeurs de feature.\n",
    "\n",
    "    Returns:\n",
    "    np.array: Vector of feature values or zero for each combination of modalities.\n",
    "\n",
    "    Todo:\n",
    "    If multiple probability values are found for the same crossed modality, it's an error.\n",
    "    \"\"\"\n",
    "    result = []\n",
    "    # Generate all possible combinations of modalities\n",
    "    combinations = list(itertools.product(*modalities.values()))\n",
    "\n",
    "    for combination in combinations:\n",
    "        # Check if the combination of modalities exists in the probability_df\n",
    "        mask = probability_df.apply(lambda row: all(row[colname] in [modality] for colname, modality in zip(modalities.keys(), combination)), axis=1)\n",
    "        if mask.any():\n",
    "        # Add the feature value if the combination of modalities exists\n",
    "            result.append(probability_df.loc[mask, feature_column].values[0])\n",
    "        else:\n",
    "        # Add zero if the combination of modalities does not exist\n",
    "            result.append(0)\n",
    "    return np.array(result)\n",
    "\n",
    "\n"
   ]
  },
  {
   "cell_type": "markdown",
   "metadata": {},
   "source": [
    "The probability distributions are computed for the tree population :\n",
    "    * the initial population (in this case, the probability distribution is simply the vector frequency\n",
    "    * the enriched truncated population by bhepop2\n",
    "    * the enriched truncated population by a common method"
   ]
  },
  {
   "cell_type": "code",
   "execution_count": 17,
   "metadata": {
    "tags": []
   },
   "outputs": [],
   "source": [
    "bhepop2_prediction = compute_crossed_modalities_frequencies(bhepop2_pop, modalities)\n",
    "common_prediction = compute_crossed_modalities_frequencies(common_pop, modalities)\n",
    "\n",
    "frequencies_vector = build_probability_vector(test, modalities, 'probability')\n",
    "bhepop2_probabilities_vector = build_probability_vector(bhepop2_prediction, modalities, 'probability')\n",
    "common_probabilities_vector = build_probability_vector(common_prediction, modalities, 'probability')\n",
    "\n"
   ]
  },
  {
   "cell_type": "markdown",
   "metadata": {},
   "source": [
    "Function that computes metrics"
   ]
  },
  {
   "cell_type": "code",
   "execution_count": 18,
   "metadata": {
    "tags": []
   },
   "outputs": [],
   "source": [
    "def compute_ratio(proba, freq, nagents, nmodalities, eps_proba, proba_min):\n",
    "    \"\"\"\n",
    "    Calculates metrics between estimated probabilities and actual frequencies:\n",
    "    RE: Relative Error\n",
    "    R2: Coefficient of Determination\n",
    "    RMSD: Root Mean Square Deviation\n",
    "    MAPE: Mean Absolute Percentage Error\n",
    "    Divergence: Kullback-Leibler Divergence\n",
    "    Goodness of Fit:\n",
    "\n",
    "    Args:\n",
    "        proba: Vector of estimated probabilities\n",
    "        freq: Vector of actual frequencies\n",
    "        nmodalities: Number of crossed modalities\n",
    "        eps_proba: Threshold to detect when a probability is zero\n",
    "        proba_min: A detected zero probability is set to the value proba_min\n",
    "        eps: If v_input(k) < eps, it is considered as zero\n",
    "        proba_min: Zero probabilities are replaced by the value proba_min\n",
    "\n",
    "    Returns:\n",
    "        rmsd, mape, divergence, goodness_of_fit\n",
    "    \"\"\"\n",
    "    def support_vector_not_null(v_input, eps, proba_min):\n",
    "        \"\"\"\n",
    "            Builds a probability vector that does not contain zero probability. This allows for comparing probability vectors that do not have the same support.\n",
    "\n",
    "            Args:\n",
    "                v_input: Probability vector with zero components\n",
    "                eps: If v_input(k) < eps, it is considered as zero\n",
    "                proba_min: Zero probabilities are replaced by the value proba_min\n",
    "\n",
    "            Returns:\n",
    "                v_output: Probability vector where no component is zero\n",
    "\n",
    "            TODO: The sum of v_output no longer equals 1... To discuss\n",
    "                    No input tests.\n",
    "        \"\"\"\n",
    "        v_output=v_input.copy()\n",
    "        v_output[v_input<eps]=proba_min\n",
    "        return v_output/np.sum(v_output)\n",
    "\n",
    "    freq_not_null = support_vector_not_null(freq,eps_proba,proba_min)\n",
    "    proba_not_null = support_vector_not_null(proba,eps_proba,proba_min)\n",
    "    diff_vector = proba - freq\n",
    "    re = np.linalg.norm(diff_vector)/np.linalg.norm(freq)\n",
    "    rmsd = np.linalg.norm(diff_vector)/np.sqrt(nmodalities)\n",
    "    r2 = 1-np.sum(diff_vector**2)/np.sum(freq**2)\n",
    "\n",
    "    diff_vector = proba - freq_not_null\n",
    "    mape = (np.sum(np.abs(diff_vector) / freq_not_null))/nmodalities\n",
    "\n",
    "    divergence = np.sum( freq_not_null*np.log(freq_not_null/proba_not_null))\n",
    "\n",
    "    diff_vector = proba_not_null - freq\n",
    "    goodness_of_fit = np.sum(diff_vector**2 / proba_not_null)\n",
    "\n",
    "    return re, r2, rmsd, mape, divergence, goodness_of_fit\n",
    "\n"
   ]
  },
  {
   "cell_type": "markdown",
   "metadata": {},
   "source": [
    "### Print Metrics"
   ]
  },
  {
   "cell_type": "code",
   "execution_count": 19,
   "metadata": {
    "tags": []
   },
   "outputs": [
    {
     "name": "stdout",
     "output_type": "stream",
     "text": [
      "                                  Common   Bhepop2\n",
      "Relative Error                  0.554842  0.153550\n",
      "Coef of determination           0.692150  0.976422\n",
      "Root Mean Square Deviation      0.000884  0.000245\n",
      "Mean Absolute Percentage Error  7.743636  2.961978\n",
      "Divergence                      0.314613  0.023772\n",
      "Goodness of fit                 0.651442  0.067607\n"
     ]
    }
   ],
   "source": [
    "nmodalities = len(frequencies_vector)\n",
    "\n",
    "re, r2, rmsd, map, divergence, goodness_of_fit = compute_ratio(bhepop2_probabilities_vector, frequencies_vector, nagents, nmodalities, eps_proba, proba_min)\n",
    "c_re, c_r2, c_rmsd, c_map, c_divergence, c_goodness_of_fit = compute_ratio(common_probabilities_vector, frequencies_vector, nagents, nmodalities, eps_proba, proba_min)\n",
    "\n",
    "\n",
    "# Display tests results\n",
    "metric_bhepop2 = [re,r2,rmsd,map,divergence,goodness_of_fit]\n",
    "metric_common = [c_re,c_r2,c_rmsd,c_map,c_divergence,c_goodness_of_fit]\n",
    "criteria = ['Relative Error', 'Coef of determination', 'Root Mean Square Deviation', 'Mean Absolute Percentage Error', 'Divergence', 'Goodness of fit' ]\n",
    "results_test = pd.DataFrame({'Common': metric_common, 'Bhepop2': metric_bhepop2 },index=criteria)\n",
    "print(results_test)\n"
   ]
  },
  {
   "cell_type": "markdown",
   "metadata": {},
   "source": [
    "## Marginals comparisons"
   ]
  },
  {
   "cell_type": "code",
   "execution_count": 20,
   "metadata": {},
   "outputs": [],
   "source": [
    "### Attribute sex"
   ]
  },
  {
   "cell_type": "code",
   "execution_count": 21,
   "metadata": {
    "tags": []
   },
   "outputs": [
    {
     "name": "stdout",
     "output_type": "stream",
     "text": [
      "Voit_rec     0voit     1voit     2voit     3voit modality attribute\n",
      "sexe_rec                                                           \n",
      "Femme     0.196093  0.521315  0.242857  0.039735    Femme  sexe_rec\n",
      "Homme     0.103556  0.431649  0.399269  0.065526    Homme  sexe_rec\n",
      "all       0.143884  0.470726  0.331103  0.054286      all  sexe_rec\n",
      "Voit_rec     0voit     1voit     2voit     3voit modality attribute\n",
      "sexe_rec                                                           \n",
      "Femme     0.188436  0.524031  0.246810  0.040723    Femme  sexe_rec\n",
      "Homme     0.104545  0.439786  0.392279  0.063391    Homme  sexe_rec\n",
      "all       0.141105  0.476500  0.328882  0.053512      all  sexe_rec\n",
      "Voit_rec     0voit     1voit     2voit     3voit modality attribute\n",
      "sexe_rec                                                           \n",
      "Femme     0.142999  0.470813  0.331300  0.054888    Femme  sexe_rec\n",
      "Homme     0.143656  0.471152  0.331281  0.053911    Homme  sexe_rec\n",
      "all       0.143369  0.471004  0.331289  0.054337      all  sexe_rec\n"
     ]
    }
   ],
   "source": [
    "a='sexe_rec'\n",
    "print(build_cross_table(synt_pop,[a, 'Voit_rec']))\n",
    "print(build_cross_table(bhepop2_pop,[a, 'Voit_rec']))\n",
    "print(build_cross_table(common_pop,[a, 'Voit_rec']))"
   ]
  },
  {
   "cell_type": "code",
   "execution_count": 22,
   "metadata": {
    "tags": []
   },
   "outputs": [],
   "source": [
    "### Attribute Age"
   ]
  },
  {
   "cell_type": "code",
   "execution_count": 23,
   "metadata": {
    "tags": []
   },
   "outputs": [
    {
     "name": "stdout",
     "output_type": "stream",
     "text": [
      "Voit_rec         0voit     1voit     2voit     3voit modality     attribute\n",
      "AGEREVQb_rec                                                               \n",
      "cat1          0.225323  0.472254  0.274794  0.027629     cat1  AGEREVQb_rec\n",
      "cat2          0.087528  0.423931  0.430097  0.058444     cat2  AGEREVQb_rec\n",
      "cat3          0.082288  0.426480  0.382459  0.108773     cat3  AGEREVQb_rec\n",
      "cat4          0.096897  0.557830  0.318637  0.026635     cat4  AGEREVQb_rec\n",
      "cat5          0.302326  0.570125  0.120128  0.007421     cat5  AGEREVQb_rec\n",
      "all           0.143884  0.470726  0.331103  0.054286      all  AGEREVQb_rec\n",
      "Voit_rec         0voit     1voit     2voit     3voit modality     attribute\n",
      "AGEREVQb_rec                                                               \n",
      "cat1          0.218583  0.472100  0.279716  0.029602     cat1  AGEREVQb_rec\n",
      "cat2          0.088029  0.423448  0.429531  0.058992     cat2  AGEREVQb_rec\n",
      "cat3          0.090248  0.448822  0.358089  0.102841     cat3  AGEREVQb_rec\n",
      "cat4          0.099760  0.561724  0.311784  0.026732     cat4  AGEREVQb_rec\n",
      "cat5          0.270977  0.567318  0.152900  0.008805     cat5  AGEREVQb_rec\n",
      "all           0.141105  0.476500  0.328882  0.053512      all  AGEREVQb_rec\n",
      "Voit_rec         0voit     1voit     2voit     3voit modality     attribute\n",
      "AGEREVQb_rec                                                               \n",
      "cat1          0.145201  0.470537  0.330001  0.054261     cat1  AGEREVQb_rec\n",
      "cat2          0.142957  0.471081  0.331875  0.054087     cat2  AGEREVQb_rec\n",
      "cat3          0.142252  0.471533  0.331309  0.054906     cat3  AGEREVQb_rec\n",
      "cat4          0.143533  0.469350  0.333180  0.053937     cat4  AGEREVQb_rec\n",
      "cat5          0.143223  0.472297  0.330227  0.054252     cat5  AGEREVQb_rec\n",
      "all           0.143369  0.471004  0.331289  0.054337      all  AGEREVQb_rec\n"
     ]
    }
   ],
   "source": [
    "a='AGEREVQb_rec'\n",
    "print(build_cross_table(synt_pop,[a, 'Voit_rec']))\n",
    "print(build_cross_table(bhepop2_pop,[a, 'Voit_rec']))\n",
    "print(build_cross_table(common_pop,[a, 'Voit_rec']))"
   ]
  },
  {
   "cell_type": "code",
   "execution_count": 24,
   "metadata": {
    "tags": []
   },
   "outputs": [],
   "source": [
    "### Attribute Familial situation"
   ]
  },
  {
   "cell_type": "code",
   "execution_count": 25,
   "metadata": {
    "tags": []
   },
   "outputs": [
    {
     "name": "stdout",
     "output_type": "stream",
     "text": [
      "Voit_rec     0voit     1voit     2voit     3voit modality attribute\n",
      "SFM_agg                                                            \n",
      "ATM       0.215885  0.401376  0.307951  0.074788      ATM   SFM_agg\n",
      "CAE1      0.024035  0.243917  0.574045  0.158003     CAE1   SFM_agg\n",
      "CAE2      0.014934  0.209368  0.652903  0.122794     CAE2   SFM_agg\n",
      "CAE3      0.025977  0.241346  0.611276  0.121401     CAE3   SFM_agg\n",
      "CSE       0.036350  0.402528  0.518663  0.042458      CSE   SFM_agg\n",
      "FM        0.159056  0.641416  0.167709  0.031819       FM   SFM_agg\n",
      "PS        0.300612  0.657207  0.032939  0.009241       PS   SFM_agg\n",
      "all       0.143884  0.470726  0.331103  0.054286      all   SFM_agg\n",
      "Voit_rec     0voit     1voit     2voit     3voit modality attribute\n",
      "SFM_agg                                                            \n",
      "ATM       0.218925  0.399296  0.307471  0.074308      ATM   SFM_agg\n",
      "CAE1      0.025461  0.249934  0.572504  0.152102     CAE1   SFM_agg\n",
      "CAE2      0.015843  0.209919  0.653992  0.120245     CAE2   SFM_agg\n",
      "CAE3      0.027525  0.244535  0.608025  0.119915     CAE3   SFM_agg\n",
      "CSE       0.038975  0.409806  0.509648  0.041571      CSE   SFM_agg\n",
      "FM        0.158210  0.640610  0.168653  0.032527       FM   SFM_agg\n",
      "PS        0.290422  0.665675  0.033721  0.010182       PS   SFM_agg\n",
      "all       0.141105  0.476500  0.328882  0.053512      all   SFM_agg\n",
      "Voit_rec     0voit     1voit     2voit     3voit modality attribute\n",
      "SFM_agg                                                            \n",
      "ATM       0.143977  0.466485  0.336506  0.053032      ATM   SFM_agg\n",
      "CAE1      0.141162  0.471091  0.333692  0.054055     CAE1   SFM_agg\n",
      "CAE2      0.143914  0.471709  0.330261  0.054116     CAE2   SFM_agg\n",
      "CAE3      0.144158  0.468914  0.333798  0.053130     CAE3   SFM_agg\n",
      "CSE       0.144548  0.471116  0.330368  0.053967      CSE   SFM_agg\n",
      "FM        0.144130  0.471799  0.330265  0.053805       FM   SFM_agg\n",
      "PS        0.142623  0.471040  0.331243  0.055094       PS   SFM_agg\n",
      "all       0.143369  0.471004  0.331289  0.054337      all   SFM_agg\n"
     ]
    }
   ],
   "source": [
    "a='SFM_agg'\n",
    "print(build_cross_table(synt_pop,[a, 'Voit_rec']))\n",
    "print(build_cross_table(bhepop2_pop,[a, 'Voit_rec']))\n",
    "print(build_cross_table(common_pop,[a, 'Voit_rec']))"
   ]
  },
  {
   "cell_type": "code",
   "execution_count": 26,
   "metadata": {
    "tags": []
   },
   "outputs": [],
   "source": [
    "### Attribute Professionnal situation"
   ]
  },
  {
   "cell_type": "code",
   "execution_count": 27,
   "metadata": {
    "tags": []
   },
   "outputs": [
    {
     "name": "stdout",
     "output_type": "stream",
     "text": [
      "Voit_rec        0voit     1voit     2voit     3voit     modality attribute\n",
      "prof                                                                      \n",
      "Agri         0.021129  0.462416  0.426515  0.089940         Agri      prof\n",
      "Artisans     0.053942  0.438695  0.419683  0.087679     Artisans      prof\n",
      "Autres_inac  0.450483  0.449117  0.082886  0.017514  Autres_inac      prof\n",
      "Cadres       0.063329  0.428253  0.441343  0.067076       Cadres      prof\n",
      "Chom         0.583031  0.322595  0.074864  0.019510         Chom      prof\n",
      "Eleve        0.575877  0.376656  0.025518  0.021950        Eleve      prof\n",
      "Empl         0.131391  0.473738  0.332824  0.062046         Empl      prof\n",
      "Ouvriers     0.115818  0.392833  0.404173  0.087176     Ouvriers      prof\n",
      "Prof_int     0.069081  0.447609  0.414863  0.068448     Prof_int      prof\n",
      "Retraite     0.182180  0.565426  0.233139  0.019256     Retraite      prof\n",
      "all          0.143884  0.470726  0.331103  0.054286          all      prof\n",
      "Voit_rec        0voit     1voit     2voit     3voit     modality attribute\n",
      "prof                                                                      \n",
      "Agri         0.018325  0.464286  0.426889  0.090501         Agri      prof\n",
      "Artisans     0.053495  0.440410  0.420093  0.086002     Artisans      prof\n",
      "Autres_inac  0.418236  0.457557  0.103766  0.020441  Autres_inac      prof\n",
      "Cadres       0.065894  0.435759  0.431773  0.066574       Cadres      prof\n",
      "Chom         0.504991  0.348457  0.118875  0.027677         Chom      prof\n",
      "Eleve        0.561875  0.381197  0.031681  0.025247        Eleve      prof\n",
      "Empl         0.130799  0.476889  0.331108  0.061204         Empl      prof\n",
      "Ouvriers     0.119261  0.405379  0.392019  0.083341     Ouvriers      prof\n",
      "Prof_int     0.073538  0.457165  0.402794  0.066504     Prof_int      prof\n",
      "Retraite     0.172958  0.566118  0.241050  0.019874     Retraite      prof\n",
      "all          0.141105  0.476500  0.328882  0.053512          all      prof\n",
      "Voit_rec        0voit     1voit     2voit     3voit     modality attribute\n",
      "prof                                                                      \n",
      "Agri         0.142857  0.477001  0.332274  0.047868         Agri      prof\n",
      "Artisans     0.145722  0.466058  0.332824  0.055396     Artisans      prof\n",
      "Autres_inac  0.141916  0.468924  0.334325  0.054835  Autres_inac      prof\n",
      "Cadres       0.142898  0.468014  0.335306  0.053782       Cadres      prof\n",
      "Chom         0.155172  0.468693  0.324410  0.051724         Chom      prof\n",
      "Eleve        0.142942  0.475753  0.324431  0.056874        Eleve      prof\n",
      "Empl         0.142162  0.470505  0.331649  0.055684         Empl      prof\n",
      "Ouvriers     0.144036  0.472145  0.330151  0.053667     Ouvriers      prof\n",
      "Prof_int     0.144499  0.472932  0.328361  0.054208     Prof_int      prof\n",
      "Retraite     0.142912  0.471240  0.331814  0.054035     Retraite      prof\n",
      "all          0.143369  0.471004  0.331289  0.054337          all      prof\n"
     ]
    }
   ],
   "source": [
    "a='prof'\n",
    "print(build_cross_table(synt_pop,[a, 'Voit_rec']))\n",
    "print(build_cross_table(bhepop2_pop,[a, 'Voit_rec']))\n",
    "print(build_cross_table(common_pop,[a, 'Voit_rec']))"
   ]
  },
  {
   "cell_type": "markdown",
   "metadata": {},
   "source": [
    "## Codes not finished to implement a global comparison as in epop2 paper"
   ]
  },
  {
   "cell_type": "markdown",
   "metadata": {},
   "source": [
    "Maybe, it is useless to do this but.... \n",
    "An error to correct"
   ]
  },
  {
   "cell_type": "code",
   "execution_count": 28,
   "metadata": {},
   "outputs": [
    {
     "ename": "TypeError",
     "evalue": "'numpy.float64' object is not callable",
     "output_type": "error",
     "traceback": [
      "\u001b[0;31m---------------------------------------------------------------------------\u001b[0m",
      "\u001b[0;31mTypeError\u001b[0m                                 Traceback (most recent call last)",
      "Cell \u001b[0;32mIn[28], line 2\u001b[0m\n\u001b[1;32m      1\u001b[0m attributes\u001b[38;5;241m=\u001b[39m\u001b[38;5;28mlist\u001b[39m(bhepop2_pop\u001b[38;5;241m.\u001b[39mcolumns[:\u001b[38;5;241m-\u001b[39m\u001b[38;5;241m1\u001b[39m])\n\u001b[0;32m----> 2\u001b[0m marginal_distribution_bhepop2\u001b[38;5;241m=\u001b[39mpd\u001b[38;5;241m.\u001b[39mconcat(\u001b[38;5;28mlist\u001b[39m(\u001b[38;5;28;43mmap\u001b[39;49m\u001b[43m(\u001b[49m\u001b[38;5;28;43;01mlambda\u001b[39;49;00m\u001b[43m \u001b[49m\u001b[43ma\u001b[49m\u001b[43m:\u001b[49m\u001b[43m \u001b[49m\u001b[43mbuild_cross_table\u001b[49m\u001b[43m(\u001b[49m\u001b[43mbhepop2_pop\u001b[49m\u001b[43m,\u001b[49m\u001b[43m \u001b[49m\u001b[43m[\u001b[49m\u001b[43ma\u001b[49m\u001b[43m,\u001b[49m\u001b[38;5;124;43m'\u001b[39;49m\u001b[38;5;124;43mVoit_rec\u001b[39;49m\u001b[38;5;124;43m'\u001b[39;49m\u001b[43m]\u001b[49m\u001b[43m)\u001b[49m\u001b[43m,\u001b[49m\u001b[43mattributes\u001b[49m\u001b[43m)\u001b[49m))\n\u001b[1;32m      3\u001b[0m \u001b[38;5;66;03m# removing multiple 'all'\u001b[39;00m\n\u001b[1;32m      4\u001b[0m marginal_distribution_bhepop2 \u001b[38;5;241m=\u001b[39m marginal_distribution_bhepop2\u001b[38;5;241m.\u001b[39mloc[\u001b[38;5;241m~\u001b[39mmarginal_distribution_bhepop2\u001b[38;5;241m.\u001b[39mindex\u001b[38;5;241m.\u001b[39mduplicated(keep\u001b[38;5;241m=\u001b[39m\u001b[38;5;124m'\u001b[39m\u001b[38;5;124mfirst\u001b[39m\u001b[38;5;124m'\u001b[39m)]\n",
      "\u001b[0;31mTypeError\u001b[0m: 'numpy.float64' object is not callable"
     ]
    }
   ],
   "source": [
    "attributes=list(bhepop2_pop.columns[:-1])\n",
    "marginal_distribution_bhepop2=pd.concat(list(map(lambda a: build_cross_table(bhepop2_pop, [a,'Voit_rec']),attributes)))\n",
    "# removing multiple 'all'\n",
    "marginal_distribution_bhepop2 = marginal_distribution_bhepop2.loc[~marginal_distribution_bhepop2.index.duplicated(keep='first')]\n",
    "marginal_distribution_bhepop2.loc[\"all\",\"attribute\"]=\"all\"\n",
    "\n",
    "print(marginal_distribution_bhepop2.head())"
   ]
  }
 ],
 "metadata": {
  "kernelspec": {
   "display_name": "Python 3 (ipykernel)",
   "language": "python",
   "name": "python3"
  },
  "language_info": {
   "codemirror_mode": {
    "name": "ipython",
    "version": 3
   },
   "file_extension": ".py",
   "mimetype": "text/x-python",
   "name": "python",
   "nbconvert_exporter": "python",
   "pygments_lexer": "ipython3",
   "version": "3.10.12"
  },
  "vscode": {
   "interpreter": {
    "hash": "df27ac0783f374db399ab7b675c5fa9ab235c5218fce6df22544d0540f06a113"
   }
  }
 },
 "nbformat": 4,
 "nbformat_minor": 4
}
